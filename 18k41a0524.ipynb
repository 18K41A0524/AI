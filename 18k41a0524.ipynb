{
  "nbformat": 4,
  "nbformat_minor": 0,
  "metadata": {
    "colab": {
      "name": "18k41a0524.ipynb",
      "provenance": [],
      "collapsed_sections": [],
      "authorship_tag": "ABX9TyOUov+QhmOp7S8EfmnzuS+c",
      "include_colab_link": true
    },
    "kernelspec": {
      "name": "python3",
      "display_name": "Python 3"
    }
  },
  "cells": [
    {
      "cell_type": "markdown",
      "metadata": {
        "id": "view-in-github",
        "colab_type": "text"
      },
      "source": [
        "<a href=\"https://colab.research.google.com/github/18K41A0524/AI/blob/master/18k41a0524.ipynb\" target=\"_parent\"><img src=\"https://colab.research.google.com/assets/colab-badge.svg\" alt=\"Open In Colab\"/></a>"
      ]
    },
    {
      "cell_type": "code",
      "metadata": {
        "id": "UWX9QfqPmTmS",
        "colab_type": "code",
        "colab": {
          "base_uri": "https://localhost:8080/",
          "height": 85
        },
        "outputId": "fef28fcb-e143-4eb7-8fa3-0d6b89a64956"
      },
      "source": [
        "length=int(input(\"enter length:\"))\n",
        "breadth=int(input(\"enter breadth:\"))\n",
        "height=int(input(\"enter heigth:\"))\n",
        "p=float(length+breadth+height)/3\n",
        "area=(p*(p-length)*(p-breadth)*(p-height))**(0.5)\n",
        "print(\"Area of the Triangle:\",area)"
      ],
      "execution_count": 7,
      "outputs": [
        {
          "output_type": "stream",
          "text": [
            "enter length:10\n",
            "enter breadth:20\n",
            "enter heigth:10\n",
            "Area of the Triangle: (1.92434679163443e-15+31.42696805273545j)\n"
          ],
          "name": "stdout"
        }
      ]
    },
    {
      "cell_type": "code",
      "metadata": {
        "id": "Kuc472PSvP6B",
        "colab_type": "code",
        "colab": {
          "base_uri": "https://localhost:8080/",
          "height": 51
        },
        "outputId": "6aca98eb-f1ad-41fd-88a9-9a7d976f6023"
      },
      "source": [
        "str2=input(\"enter string\")\n",
        "str1=str2[::-1]\n",
        "if str2==str1:\n",
        "  print(\"pallendrome\")\n",
        "else:\n",
        "  print(\"not a pallendrome\")"
      ],
      "execution_count": 13,
      "outputs": [
        {
          "output_type": "stream",
          "text": [
            "enter stringpallen\n",
            "not a pallendrome\n"
          ],
          "name": "stdout"
        }
      ]
    },
    {
      "cell_type": "code",
      "metadata": {
        "id": "Wk1iHw-awdOZ",
        "colab_type": "code",
        "colab": {
          "base_uri": "https://localhost:8080/",
          "height": 51
        },
        "outputId": "5bca71b5-f025-479a-cb47-9b717181d503"
      },
      "source": [
        "year=int(input(\"Enter year\"))\n",
        "if year%4==0:\n",
        "  print(year,\"isLeap year\")\n",
        "else:\n",
        "  print(\"not a leap year\")\n"
      ],
      "execution_count": 21,
      "outputs": [
        {
          "output_type": "stream",
          "text": [
            "Enter year2000\n",
            "2000 isLeap year\n"
          ],
          "name": "stdout"
        }
      ]
    },
    {
      "cell_type": "code",
      "metadata": {
        "id": "51aWMFP8yDLb",
        "colab_type": "code",
        "colab": {
          "base_uri": "https://localhost:8080/",
          "height": 68
        },
        "outputId": "ca7d5168-2480-4508-df8c-91e814bf40ad"
      },
      "source": [
        "string=input(\"Enter string:\")\n",
        "string=string.split(\" \")\n",
        "print(string)\n",
        "string=\"-\".join(string)\n",
        "print(string)"
      ],
      "execution_count": 33,
      "outputs": [
        {
          "output_type": "stream",
          "text": [
            "Enter string:This program converts spaces to hypen\n",
            "['This', 'program', 'converts', 'spaces', 'to', 'hypen']\n",
            "This-program-converts-spaces-to-hypen\n"
          ],
          "name": "stdout"
        }
      ]
    },
    {
      "cell_type": "code",
      "metadata": {
        "id": "3jD48r6v1h1G",
        "colab_type": "code",
        "colab": {
          "base_uri": "https://localhost:8080/",
          "height": 68
        },
        "outputId": "201ed642-6f34-4a38-aaae-1a8fbf5c0382"
      },
      "source": [
        "string=input()\n",
        "string=string.split(\",\")\n",
        "print(string)\n",
        "List=list(string)\n",
        "List.sort()\n",
        "Dic=list(dict.fromkeys(List))\n",
        "print(Dic)"
      ],
      "execution_count": 43,
      "outputs": [
        {
          "output_type": "stream",
          "text": [
            "orange, white, red, cyan, green, magenta, cyan, pink, white\n",
            "['orange', ' white', ' red', ' cyan', ' green', ' magenta', ' cyan', ' pink', ' white']\n",
            "[' cyan', ' green', ' magenta', ' pink', ' red', ' white', 'orange']\n"
          ],
          "name": "stdout"
        }
      ]
    },
    {
      "cell_type": "code",
      "metadata": {
        "id": "z37WyANU5qnd",
        "colab_type": "code",
        "colab": {
          "base_uri": "https://localhost:8080/",
          "height": 51
        },
        "outputId": "52516790-6ccd-44ba-959c-705f3fce41ec"
      },
      "source": [
        "sal=int(input(\"Enter salary\"))\n",
        "if sal<(250000):\n",
        "   tax=0\n",
        "   print(\"salary is:\",sal,\"\",\"tax:\",tax)\n",
        "elif (sal>250001)and (sal<=500000):\n",
        "   tax=float(sal*(5/100))\n",
        "   print(\"salary is:\",sal,\"\",\"tax:\",tax)\n",
        "elif (sal>5000001)and (sal<=750000):\n",
        "   tax=float(sal*(10/100))\n",
        "   print(\"salary is:\",sal,\"\",\"tax:\",tax)\n",
        "elif (sal>750001)and (sal<=1000000):\n",
        "   tax=float(sal*(15/100))\n",
        "   print(\"salary is:\",sal,\"\",\"tax:\",tax)\n",
        "elif (sal>1000001)and (sal<=1250000):\n",
        "   tax=float(sal*(20/100))\n",
        "   print(\"salary is:\",sal,\"\",\"tax:\",tax)\n",
        "elif (sal>1250001)and (sal<=1500000):\n",
        "   tax=float(sal*(25/100))\n",
        "   print(\"salary is:\",sal,\"\",\"tax:\",tax)\n",
        "elif (sal>1500000):\n",
        "   tax=float(sal*(30/100))\n",
        "   print(\"salary is:\",sal,\"\",\"tax:\",tax)"
      ],
      "execution_count": 53,
      "outputs": [
        {
          "output_type": "stream",
          "text": [
            "Enter salary500000\n",
            "salary is: 500000  tax: 25000.0\n"
          ],
          "name": "stdout"
        }
      ]
    },
    {
      "cell_type": "code",
      "metadata": {
        "id": "iuTgjUS8-Uy-",
        "colab_type": "code",
        "colab": {
          "base_uri": "https://localhost:8080/",
          "height": 51
        },
        "outputId": "898e9914-553e-4107-f949-018924a5b6d0"
      },
      "source": [
        "list=[1,2,3,4]\n",
        "print(list)\n",
        "for i in list:\n",
        "  print(i,end=\"\")"
      ],
      "execution_count": 57,
      "outputs": [
        {
          "output_type": "stream",
          "text": [
            "[1, 2, 3, 4]\n",
            "1234"
          ],
          "name": "stdout"
        }
      ]
    },
    {
      "cell_type": "code",
      "metadata": {
        "id": "tJHQcmUV__tY",
        "colab_type": "code",
        "colab": {
          "base_uri": "https://localhost:8080/",
          "height": 170
        },
        "outputId": "aa8ed1f2-4965-493c-edd6-88bf55e90b76"
      },
      "source": [
        "days=int(input(\"enter no of days:\"))\n",
        "hours=int(input(\"enter no of hours:\"))\n",
        "min=int(input(\"enter no of min:\"))\n",
        "sec=int(input(\"enter no of seconds:\"))\n",
        "dos=days*86400\n",
        "print(\"no of seconds for\",days,\"daysis:\",dos)\n",
        "hos=hours*3600\n",
        "print(\"no of seconds for\",hours,\"hours is:\",hos)\n",
        "mos=min*60\n",
        "print(\"no of seconds for\",min,\"minutes is:\",mos)\n",
        "sos=sec*1\n",
        "print(\"no of seconds for\",sec,\"secondsis:\",sos)\n",
        "print('total number of seconds are ',days*86400+hours*3600+min*60+sec)"
      ],
      "execution_count": 82,
      "outputs": [
        {
          "output_type": "stream",
          "text": [
            "enter no of days:2\n",
            "enter no of hours:2\n",
            "enter no of min:2\n",
            "enter no of seconds:2\n",
            "no of seconds for 2 daysis: 172800\n",
            "no of seconds for 2 hours is: 7200\n",
            "no of seconds for 2 minutes is: 120\n",
            "no of seconds for 2 secondsis: 2\n",
            "total number of seconds are  180122\n"
          ],
          "name": "stdout"
        }
      ]
    },
    {
      "cell_type": "code",
      "metadata": {
        "id": "PoGYihNnDfg4",
        "colab_type": "code",
        "colab": {
          "base_uri": "https://localhost:8080/",
          "height": 265
        },
        "outputId": "c9859977-424a-43ab-a999-378cd522573b"
      },
      "source": [
        "\n",
        "a=int(input('enter first number : '))\n",
        "b=int(input('enter second number : '))\n",
        "c=int(input('enter third number : '))\n",
        "ma=max(a,b,c)\n",
        "mi=min(a,b,c)\n",
        "print('the numbers are shorted in order of: ',mi,a+b+c-(ma+mi),ma)"
      ],
      "execution_count": 108,
      "outputs": [
        {
          "output_type": "stream",
          "text": [
            "enter first number : 3\n",
            "enter second number : 4\n",
            "enter third number : 2\n"
          ],
          "name": "stdout"
        },
        {
          "output_type": "error",
          "ename": "TypeError",
          "evalue": "ignored",
          "traceback": [
            "\u001b[0;31m---------------------------------------------------------------------------\u001b[0m",
            "\u001b[0;31mTypeError\u001b[0m                                 Traceback (most recent call last)",
            "\u001b[0;32m<ipython-input-108-9f2bd9523e6d>\u001b[0m in \u001b[0;36m<module>\u001b[0;34m()\u001b[0m\n\u001b[1;32m      4\u001b[0m \u001b[0mc\u001b[0m\u001b[0;34m=\u001b[0m\u001b[0mint\u001b[0m\u001b[0;34m(\u001b[0m\u001b[0minput\u001b[0m\u001b[0;34m(\u001b[0m\u001b[0;34m'enter third number : '\u001b[0m\u001b[0;34m)\u001b[0m\u001b[0;34m)\u001b[0m\u001b[0;34m\u001b[0m\u001b[0;34m\u001b[0m\u001b[0m\n\u001b[1;32m      5\u001b[0m \u001b[0mma\u001b[0m\u001b[0;34m=\u001b[0m\u001b[0mmax\u001b[0m\u001b[0;34m(\u001b[0m\u001b[0ma\u001b[0m\u001b[0;34m,\u001b[0m\u001b[0mb\u001b[0m\u001b[0;34m,\u001b[0m\u001b[0mc\u001b[0m\u001b[0;34m)\u001b[0m\u001b[0;34m\u001b[0m\u001b[0;34m\u001b[0m\u001b[0m\n\u001b[0;32m----> 6\u001b[0;31m \u001b[0mmi\u001b[0m\u001b[0;34m=\u001b[0m\u001b[0mmin\u001b[0m\u001b[0;34m(\u001b[0m\u001b[0ma\u001b[0m\u001b[0;34m,\u001b[0m\u001b[0mb\u001b[0m\u001b[0;34m,\u001b[0m\u001b[0mc\u001b[0m\u001b[0;34m)\u001b[0m\u001b[0;34m\u001b[0m\u001b[0;34m\u001b[0m\u001b[0m\n\u001b[0m\u001b[1;32m      7\u001b[0m \u001b[0mprint\u001b[0m\u001b[0;34m(\u001b[0m\u001b[0;34m'the numbers are shorted in order of: '\u001b[0m\u001b[0;34m,\u001b[0m\u001b[0mmi\u001b[0m\u001b[0;34m,\u001b[0m\u001b[0ma\u001b[0m\u001b[0;34m+\u001b[0m\u001b[0mb\u001b[0m\u001b[0;34m+\u001b[0m\u001b[0mc\u001b[0m\u001b[0;34m-\u001b[0m\u001b[0;34m(\u001b[0m\u001b[0mma\u001b[0m\u001b[0;34m+\u001b[0m\u001b[0mmi\u001b[0m\u001b[0;34m)\u001b[0m\u001b[0;34m,\u001b[0m\u001b[0mma\u001b[0m\u001b[0;34m)\u001b[0m\u001b[0;34m\u001b[0m\u001b[0;34m\u001b[0m\u001b[0m\n",
            "\u001b[0;31mTypeError\u001b[0m: 'int' object is not callable"
          ]
        }
      ]
    },
    {
      "cell_type": "code",
      "metadata": {
        "id": "qzJLw6VLf28N",
        "colab_type": "code",
        "colab": {
          "base_uri": "https://localhost:8080/",
          "height": 163
        },
        "outputId": "483410b7-e6d9-4bdc-8011-ea1df3fa7e52"
      },
      "source": [
        ""
      ],
      "execution_count": 109,
      "outputs": [
        {
          "output_type": "error",
          "ename": "TypeError",
          "evalue": "ignored",
          "traceback": [
            "\u001b[0;31m---------------------------------------------------------------------------\u001b[0m",
            "\u001b[0;31mTypeError\u001b[0m                                 Traceback (most recent call last)",
            "\u001b[0;32m<ipython-input-109-c6e69a1c9405>\u001b[0m in \u001b[0;36m<module>\u001b[0;34m()\u001b[0m\n\u001b[0;32m----> 1\u001b[0;31m \u001b[0mprint\u001b[0m\u001b[0;34m(\u001b[0m\u001b[0mmin\u001b[0m\u001b[0;34m(\u001b[0m\u001b[0;34m[\u001b[0m\u001b[0;36m1\u001b[0m\u001b[0;34m,\u001b[0m\u001b[0;36m3\u001b[0m\u001b[0;34m,\u001b[0m\u001b[0;36m2\u001b[0m\u001b[0;34m,\u001b[0m\u001b[0;36m4\u001b[0m\u001b[0;34m]\u001b[0m\u001b[0;34m)\u001b[0m\u001b[0;34m)\u001b[0m\u001b[0;34m\u001b[0m\u001b[0;34m\u001b[0m\u001b[0m\n\u001b[0m",
            "\u001b[0;31mTypeError\u001b[0m: 'int' object is not callable"
          ]
        }
      ]
    },
    {
      "cell_type": "code",
      "metadata": {
        "id": "2zaEPVPaZkI5",
        "colab_type": "code",
        "colab": {
          "base_uri": "https://localhost:8080/",
          "height": 85
        },
        "outputId": "e6df9e8a-2ceb-4067-dcda-5876157a34b0"
      },
      "source": [
        "y = int(input(\"enter a year: \"))\n",
        "m= int(input(\"Input a month [1-12]: \"))\n",
        "d = int(input(\"Input a day [1-31]: \"))\n",
        "if (y % 4 == 0):\n",
        "  ly = True\n",
        "else:\n",
        "  ly = False\n",
        "if m in (1, 3, 5, 7, 8, 10, 12):\n",
        "  ml= 31\n",
        "elif m == 2:\n",
        "    if ly:\n",
        "        ml= 29\n",
        "    else:\n",
        "        ml = 28\n",
        "else:\n",
        "    ml= 30\n",
        "if d < ml:\n",
        "    d += 1\n",
        "else:\n",
        "    d=1\n",
        "    if m == 12:\n",
        "        m = 1\n",
        "        y += 1\n",
        "    else:\n",
        "        m += 1\n",
        "print(\"The next date : \" ,y,m,d)"
      ],
      "execution_count": 88,
      "outputs": [
        {
          "output_type": "stream",
          "text": [
            "enter a year: 2020\n",
            "Input a month [1-12]: 4\n",
            "Input a day [1-31]: 5\n",
            "The next date :  2020 4 6\n"
          ],
          "name": "stdout"
        }
      ]
    },
    {
      "cell_type": "code",
      "metadata": {
        "id": "bMw1BdxHRD3e",
        "colab_type": "code",
        "colab": {
          "base_uri": "https://localhost:8080/",
          "height": 34
        },
        "outputId": "eb4bf74c-d186-4d9b-999c-c3165e0552f6"
      },
      "source": [
        "import datetime\n",
        "NextDay = datetime.datetime(2020,4,15) + datetime.timedelta(days=1)\n",
        "print ('Successor_Date: ' + str(NextDay))"
      ],
      "execution_count": 73,
      "outputs": [
        {
          "output_type": "stream",
          "text": [
            "Successor_Date: 2020-04-16 00:00:00\n"
          ],
          "name": "stdout"
        }
      ]
    },
    {
      "cell_type": "code",
      "metadata": {
        "id": "9__8s801ThJ9",
        "colab_type": "code",
        "colab": {
          "base_uri": "https://localhost:8080/",
          "height": 34
        },
        "outputId": "4eda2be5-190a-4c6b-b67a-9d4a2a1cdd55"
      },
      "source": [
        "List=[45,3,2,89,72,1,10,7]\n",
        "sum=1\n",
        "for i in List:\n",
        "  sum=sum*i\n",
        "print(\"Product:\",sum)"
      ],
      "execution_count": 76,
      "outputs": [
        {
          "output_type": "stream",
          "text": [
            "Product: 121111200\n"
          ],
          "name": "stdout"
        }
      ]
    },
    {
      "cell_type": "code",
      "metadata": {
        "id": "LANl_9P_UpXk",
        "colab_type": "code",
        "colab": {
          "base_uri": "https://localhost:8080/",
          "height": 187
        },
        "outputId": "b53b27ed-cdf7-4261-e516-e9633fa5db87"
      },
      "source": [
        "l=[]\n",
        "n=int(input('Enter number of elements :')) \n",
        "print('enter elements :')\n",
        "for i in range(0, n): \n",
        "\te = int(input()) \n",
        "\tl.append(e)\n",
        "print('list you have entered is : ',str(l)) \n",
        "s=[] \n",
        "for i in range(1, len(l)): \n",
        "\ts.append(l[i]+l[i-1]) \n",
        "print (\"difference list : \",s) \n"
      ],
      "execution_count": 90,
      "outputs": [
        {
          "output_type": "stream",
          "text": [
            "Enter number of elements :6\n",
            "enter elements :\n",
            "5\n",
            "6\n",
            "8\n",
            "34\n",
            "89\n",
            "1\n",
            "list you have entered is :  [5, 6, 8, 34, 89, 1]\n",
            "difference list :  [11, 14, 42, 123, 90]\n"
          ],
          "name": "stdout"
        }
      ]
    },
    {
      "cell_type": "code",
      "metadata": {
        "id": "b6or4B5kaAa6",
        "colab_type": "code",
        "colab": {
          "base_uri": "https://localhost:8080/",
          "height": 34
        },
        "outputId": "f49400d8-8f4a-4060-be76-d3a020ba6923"
      },
      "source": [
        "l=(5,6,8,3,9,1)\n",
        "p=[]\n",
        "r=1\n",
        "for i in l:\n",
        "  r*=i\n",
        "  p.append(r)\n",
        "print(\"multiplication list of all elements is : \",p)"
      ],
      "execution_count": 91,
      "outputs": [
        {
          "output_type": "stream",
          "text": [
            "multiplication list of all elements is :  [5, 30, 240, 720, 6480, 6480]\n"
          ],
          "name": "stdout"
        }
      ]
    },
    {
      "cell_type": "code",
      "metadata": {
        "id": "4thGt9AsaHp4",
        "colab_type": "code",
        "colab": {
          "base_uri": "https://localhost:8080/",
          "height": 51
        },
        "outputId": "07336ade-e985-433e-abc3-0ba12bf3bc2e"
      },
      "source": [
        "n=int(input('enter an integer : '))\n",
        "s=[]\n",
        "for x in str(n):\n",
        "  s.append(int(x))\n",
        "print(s)"
      ],
      "execution_count": 92,
      "outputs": [
        {
          "output_type": "stream",
          "text": [
            "enter an integer : 586392\n",
            "[5, 8, 6, 3, 9, 2]\n"
          ],
          "name": "stdout"
        }
      ]
    },
    {
      "cell_type": "code",
      "metadata": {
        "id": "zJB3jGH_aSBB",
        "colab_type": "code",
        "colab": {
          "base_uri": "https://localhost:8080/",
          "height": 51
        },
        "outputId": "2e78c6be-82f6-4c8d-9004-5a9d3e72a4c4"
      },
      "source": [
        "class sub(object):\n",
        "   def lp(self, s):\n",
        "      p = [[False for i in range(len(s))] for i in range(len(s))]\n",
        "      for i in range(len(s)):\n",
        "         p[i][i] = True\n",
        "      ml = 1\n",
        "      t = 0\n",
        "      for l in range(2,len(s)+1):\n",
        "         for i in range(len(s)-l+1):\n",
        "            e = i+l\n",
        "            if l==2:\n",
        "               if s[i] == s[e-1]:\n",
        "                  p[i][e-1]=True\n",
        "                  ml = l\n",
        "                  t = i\n",
        "            else:\n",
        "               if s[i] == s[e-1] and p[i+1][e-2]:\n",
        "                  p[i][e-1]=True\n",
        "                  ml = l\n",
        "                  t = i\n",
        "      return s[t:t+ml]\n",
        "st=input(\"enter string : \")\n",
        "ob1 = sub()\n",
        "print(ob1.lp(st))"
      ],
      "execution_count": 93,
      "outputs": [
        {
          "output_type": "stream",
          "text": [
            "enter string : beginning\n",
            "inni\n"
          ],
          "name": "stdout"
        }
      ]
    },
    {
      "cell_type": "code",
      "metadata": {
        "id": "8JKpBPuSad-i",
        "colab_type": "code",
        "colab": {
          "base_uri": "https://localhost:8080/",
          "height": 68
        },
        "outputId": "13b93d98-11a7-4303-c54d-3ddad4e2da94"
      },
      "source": [
        "s=input(\"Enter binary string:\")\n",
        "ss=input(\"Enter binary substring:\")\n",
        "if(s.find(ss)==-1):\n",
        "      print(\"0\")\n",
        "else:\n",
        "      print(\"1\")"
      ],
      "execution_count": 94,
      "outputs": [
        {
          "output_type": "stream",
          "text": [
            "Enter binary string:1010110010\n",
            "Enter binary substring:10110\n",
            "1\n"
          ],
          "name": "stdout"
        }
      ]
    },
    {
      "cell_type": "code",
      "metadata": {
        "id": "UzLIn855aucI",
        "colab_type": "code",
        "colab": {}
      },
      "source": [
        ""
      ],
      "execution_count": null,
      "outputs": []
    },
    {
      "cell_type": "code",
      "metadata": {
        "id": "iRN9zidAazVT",
        "colab_type": "code",
        "colab": {}
      },
      "source": [
        ""
      ],
      "execution_count": null,
      "outputs": []
    },
    {
      "cell_type": "code",
      "metadata": {
        "id": "FZI4w041azYc",
        "colab_type": "code",
        "colab": {
          "base_uri": "https://localhost:8080/",
          "height": 408
        },
        "outputId": "b092fa5e-baf3-4d5c-8ba4-0db3ab92b42e"
      },
      "source": [
        "def gcd(a,b):\n",
        "    if b==0: \n",
        "        return a \n",
        "    return gcd(b,a%b) \n",
        "def steps(a,b,c): \n",
        "    v1=b\n",
        "    v2=0\n",
        "    co=1\n",
        "    while ((v1 is not c) and (v2 is not c)): \n",
        "        t=min(v1,a-v2) \n",
        "        v2=v2+t \n",
        "        v1=v1-t \n",
        "        co+=1\n",
        "        if ((v2==c)or(v1==c)): \n",
        "            break\n",
        "        if v1==0: \n",
        "            v1=b \n",
        "            co+=1\n",
        "        if v2==a: \n",
        "            v2=0\n",
        "            co+=1\n",
        "    return co \n",
        "def ispos(a,b,c): \n",
        "    if a>b: \n",
        "        t=a \n",
        "        a=b \n",
        "        b=t \n",
        "    if c>b: \n",
        "        return -1\n",
        "    if (c%(gcd(b,a)) is not 0): \n",
        "        return -1\n",
        "    return(min(steps(b,a,c),steps(a,b,c)))\n",
        "t=int(input(\"Enter no of testcases : \"))\n",
        "for i in range(t):\n",
        "  a=int(input(\"Enter number of liters in vessel a : \"))\n",
        "  b=int(input(\"Enter number of liters in vessel b : \"))\n",
        "  c=int(input(\"Enter number of liters to be obtained :\"))\n",
        "  print(\"Minimum number of steps required to fill the vessel c is : \",ispos(a,b,c))"
      ],
      "execution_count": 101,
      "outputs": [
        {
          "output_type": "stream",
          "text": [
            "Enter no of testcases : 1\n",
            "Enter number of liters in vessel a : 2\n",
            "Enter number of liters in vessel b : 9\n",
            "Enter number of liters to be obtained :5\n"
          ],
          "name": "stdout"
        },
        {
          "output_type": "error",
          "ename": "TypeError",
          "evalue": "ignored",
          "traceback": [
            "\u001b[0;31m---------------------------------------------------------------------------\u001b[0m",
            "\u001b[0;31mTypeError\u001b[0m                                 Traceback (most recent call last)",
            "\u001b[0;32m<ipython-input-101-80250bd6b989>\u001b[0m in \u001b[0;36m<module>\u001b[0;34m()\u001b[0m\n\u001b[1;32m     36\u001b[0m   \u001b[0mb\u001b[0m\u001b[0;34m=\u001b[0m\u001b[0mint\u001b[0m\u001b[0;34m(\u001b[0m\u001b[0minput\u001b[0m\u001b[0;34m(\u001b[0m\u001b[0;34m\"Enter number of liters in vessel b : \"\u001b[0m\u001b[0;34m)\u001b[0m\u001b[0;34m)\u001b[0m\u001b[0;34m\u001b[0m\u001b[0;34m\u001b[0m\u001b[0m\n\u001b[1;32m     37\u001b[0m   \u001b[0mc\u001b[0m\u001b[0;34m=\u001b[0m\u001b[0mint\u001b[0m\u001b[0;34m(\u001b[0m\u001b[0minput\u001b[0m\u001b[0;34m(\u001b[0m\u001b[0;34m\"Enter number of liters to be obtained :\"\u001b[0m\u001b[0;34m)\u001b[0m\u001b[0;34m)\u001b[0m\u001b[0;34m\u001b[0m\u001b[0;34m\u001b[0m\u001b[0m\n\u001b[0;32m---> 38\u001b[0;31m   \u001b[0mprint\u001b[0m\u001b[0;34m(\u001b[0m\u001b[0;34m\"Minimum number of steps required to fill the vessel c is : \"\u001b[0m\u001b[0;34m,\u001b[0m\u001b[0mispos\u001b[0m\u001b[0;34m(\u001b[0m\u001b[0ma\u001b[0m\u001b[0;34m,\u001b[0m\u001b[0mb\u001b[0m\u001b[0;34m,\u001b[0m\u001b[0mc\u001b[0m\u001b[0;34m)\u001b[0m\u001b[0;34m)\u001b[0m\u001b[0;34m\u001b[0m\u001b[0;34m\u001b[0m\u001b[0m\n\u001b[0m",
            "\u001b[0;32m<ipython-input-101-80250bd6b989>\u001b[0m in \u001b[0;36mispos\u001b[0;34m(a, b, c)\u001b[0m\n\u001b[1;32m     30\u001b[0m     \u001b[0;32mif\u001b[0m \u001b[0;34m(\u001b[0m\u001b[0mc\u001b[0m\u001b[0;34m%\u001b[0m\u001b[0;34m(\u001b[0m\u001b[0mgcd\u001b[0m\u001b[0;34m(\u001b[0m\u001b[0mb\u001b[0m\u001b[0;34m,\u001b[0m\u001b[0ma\u001b[0m\u001b[0;34m)\u001b[0m\u001b[0;34m)\u001b[0m \u001b[0;32mis\u001b[0m \u001b[0;32mnot\u001b[0m \u001b[0;36m0\u001b[0m\u001b[0;34m)\u001b[0m\u001b[0;34m:\u001b[0m\u001b[0;34m\u001b[0m\u001b[0;34m\u001b[0m\u001b[0m\n\u001b[1;32m     31\u001b[0m         \u001b[0;32mreturn\u001b[0m \u001b[0;34m-\u001b[0m\u001b[0;36m1\u001b[0m\u001b[0;34m\u001b[0m\u001b[0;34m\u001b[0m\u001b[0m\n\u001b[0;32m---> 32\u001b[0;31m     \u001b[0;32mreturn\u001b[0m\u001b[0;34m(\u001b[0m\u001b[0mmin\u001b[0m\u001b[0;34m(\u001b[0m\u001b[0msteps\u001b[0m\u001b[0;34m(\u001b[0m\u001b[0mb\u001b[0m\u001b[0;34m,\u001b[0m\u001b[0ma\u001b[0m\u001b[0;34m,\u001b[0m\u001b[0mc\u001b[0m\u001b[0;34m)\u001b[0m\u001b[0;34m,\u001b[0m\u001b[0msteps\u001b[0m\u001b[0;34m(\u001b[0m\u001b[0ma\u001b[0m\u001b[0;34m,\u001b[0m\u001b[0mb\u001b[0m\u001b[0;34m,\u001b[0m\u001b[0mc\u001b[0m\u001b[0;34m)\u001b[0m\u001b[0;34m)\u001b[0m\u001b[0;34m)\u001b[0m\u001b[0;34m\u001b[0m\u001b[0;34m\u001b[0m\u001b[0m\n\u001b[0m\u001b[1;32m     33\u001b[0m \u001b[0mt\u001b[0m\u001b[0;34m=\u001b[0m\u001b[0mint\u001b[0m\u001b[0;34m(\u001b[0m\u001b[0minput\u001b[0m\u001b[0;34m(\u001b[0m\u001b[0;34m\"Enter no of testcases : \"\u001b[0m\u001b[0;34m)\u001b[0m\u001b[0;34m)\u001b[0m\u001b[0;34m\u001b[0m\u001b[0;34m\u001b[0m\u001b[0m\n\u001b[1;32m     34\u001b[0m \u001b[0;32mfor\u001b[0m \u001b[0mi\u001b[0m \u001b[0;32min\u001b[0m \u001b[0mrange\u001b[0m\u001b[0;34m(\u001b[0m\u001b[0mt\u001b[0m\u001b[0;34m)\u001b[0m\u001b[0;34m:\u001b[0m\u001b[0;34m\u001b[0m\u001b[0;34m\u001b[0m\u001b[0m\n",
            "\u001b[0;32m<ipython-input-101-80250bd6b989>\u001b[0m in \u001b[0;36msteps\u001b[0;34m(a, b, c)\u001b[0m\n\u001b[1;32m      8\u001b[0m     \u001b[0mco\u001b[0m\u001b[0;34m=\u001b[0m\u001b[0;36m1\u001b[0m\u001b[0;34m\u001b[0m\u001b[0;34m\u001b[0m\u001b[0m\n\u001b[1;32m      9\u001b[0m     \u001b[0;32mwhile\u001b[0m \u001b[0;34m(\u001b[0m\u001b[0;34m(\u001b[0m\u001b[0mv1\u001b[0m \u001b[0;32mis\u001b[0m \u001b[0;32mnot\u001b[0m \u001b[0mc\u001b[0m\u001b[0;34m)\u001b[0m \u001b[0;32mand\u001b[0m \u001b[0;34m(\u001b[0m\u001b[0mv2\u001b[0m \u001b[0;32mis\u001b[0m \u001b[0;32mnot\u001b[0m \u001b[0mc\u001b[0m\u001b[0;34m)\u001b[0m\u001b[0;34m)\u001b[0m\u001b[0;34m:\u001b[0m\u001b[0;34m\u001b[0m\u001b[0;34m\u001b[0m\u001b[0m\n\u001b[0;32m---> 10\u001b[0;31m         \u001b[0mt\u001b[0m\u001b[0;34m=\u001b[0m\u001b[0mmin\u001b[0m\u001b[0;34m(\u001b[0m\u001b[0mv1\u001b[0m\u001b[0;34m,\u001b[0m\u001b[0ma\u001b[0m\u001b[0;34m-\u001b[0m\u001b[0mv2\u001b[0m\u001b[0;34m)\u001b[0m\u001b[0;34m\u001b[0m\u001b[0;34m\u001b[0m\u001b[0m\n\u001b[0m\u001b[1;32m     11\u001b[0m         \u001b[0mv2\u001b[0m\u001b[0;34m=\u001b[0m\u001b[0mv2\u001b[0m\u001b[0;34m+\u001b[0m\u001b[0mt\u001b[0m\u001b[0;34m\u001b[0m\u001b[0;34m\u001b[0m\u001b[0m\n\u001b[1;32m     12\u001b[0m         \u001b[0mv1\u001b[0m\u001b[0;34m=\u001b[0m\u001b[0mv1\u001b[0m\u001b[0;34m-\u001b[0m\u001b[0mt\u001b[0m\u001b[0;34m\u001b[0m\u001b[0;34m\u001b[0m\u001b[0m\n",
            "\u001b[0;31mTypeError\u001b[0m: 'int' object is not callable"
          ]
        }
      ]
    },
    {
      "cell_type": "code",
      "metadata": {
        "id": "GLjtPGXBxRHl",
        "colab_type": "code",
        "colab": {}
      },
      "source": [
        ""
      ],
      "execution_count": null,
      "outputs": []
    }
  ]
}