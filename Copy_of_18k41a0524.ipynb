{
  "nbformat": 4,
  "nbformat_minor": 0,
  "metadata": {
    "colab": {
      "name": "Copy of 18k41a0524",
      "provenance": [],
      "collapsed_sections": []
    },
    "kernelspec": {
      "name": "python3",
      "display_name": "Python 3"
    }
  },
  "cells": [
    {
      "cell_type": "code",
      "metadata": {
        "id": "HVRYwm-0NYHK",
        "colab_type": "code",
        "colab": {
          "base_uri": "https://localhost:8080/",
          "height": 51
        },
        "outputId": "da38ab13-ebdf-45d3-b418-d06dd2afad8c"
      },
      "source": [
        "a=[\"monkey\",\"rooster\",\"dog\",\"pig\",\"rat\",\"ox\",\"tiger\",\"rabbit\",\"dragon\",\"snake\",\"Horse\",\"sheep\"]\n",
        "year=int(input(\"enter year\"));\n",
        "x=year%12;\n",
        "print('Zodiac sign is:',a[x])"
      ],
      "execution_count": null,
      "outputs": [
        {
          "output_type": "stream",
          "text": [
            "enter year2020\n",
            "Zodiac sign is: rat\n"
          ],
          "name": "stdout"
        }
      ]
    },
    {
      "cell_type": "code",
      "metadata": {
        "id": "cpnY010W8A48",
        "colab_type": "code",
        "colab": {
          "base_uri": "https://localhost:8080/",
          "height": 68
        },
        "outputId": "4f4e791e-84e2-47ac-c585-2f3063eb69c4"
      },
      "source": [
        "print(\"enter distance to be travelled\",end=\" \")\n",
        "d=int(input())\n",
        "print(\"enter weight of goods\",end=\" \")\n",
        "w=int(input())\n",
        "if(d>=500):\n",
        "  if(w>=100):\n",
        "        c=5\n",
        "  elif(w>=10and w<100):\n",
        "        c=6\n",
        "  else:\n",
        "        c=7\n",
        "else:\n",
        "  if(w>=100):\n",
        "        c=8\n",
        "  else:\n",
        "        c=5\n",
        "print(f'amount to be charged : {d*c}')\n",
        "\n"
      ],
      "execution_count": null,
      "outputs": [
        {
          "output_type": "stream",
          "text": [
            "enter distance to be travelled 500\n",
            "enter weight of goods 50\n",
            "amount to be charged : 3000\n"
          ],
          "name": "stdout"
        }
      ]
    },
    {
      "cell_type": "code",
      "metadata": {
        "id": "WVxktfIy-XCS",
        "colab_type": "code",
        "colab": {
          "base_uri": "https://localhost:8080/",
          "height": 68
        },
        "outputId": "aa458133-9b48-4042-f797-264ffa6b7e84"
      },
      "source": [
        "a=[\"Stalls\",\"Circle\",\"UpperClass\",\"box\"]\n",
        "s=input(\"Type of seat:\")\n",
        "pm=input(\"Payment mode:\")\n",
        "c=\"cash\"\n",
        "if pm==c:\n",
        "  if s in a[0]:\n",
        "    discount=625*(0.1)\n",
        "    b=625-discount\n",
        "  elif s in a[1]:\n",
        "    discount=750*(0.1)\n",
        "    b=750-discount\n",
        "  elif s in a[2]:\n",
        "    discount=850*(0.1)\n",
        "    b=850-discount\n",
        "  else:\n",
        "    discount=1000*(0.1)\n",
        "    b=1000-discount\n",
        "else:\n",
        "  if s in a[0]:\n",
        "    discount=625*(0.05)\n",
        "    b=625-discount\n",
        "  elif s in a[1]:\n",
        "    discount=750*(0.05)\n",
        "    b=750-discount\n",
        "  elif s in a[2]:\n",
        "    discount=850*(0.05)\n",
        "    b=850-dis\n",
        "  else:\n",
        "    discount=1000*(0.05)\n",
        "    b=1000-discount\n",
        "print('cost of ticket',b)"
      ],
      "execution_count": null,
      "outputs": [
        {
          "output_type": "stream",
          "text": [
            "Type of seat:Circle\n",
            "Payment mode:cash\n",
            "cost of ticket 675.0\n"
          ],
          "name": "stdout"
        }
      ]
    },
    {
      "cell_type": "code",
      "metadata": {
        "id": "ZZFpfrtAATUc",
        "colab_type": "code",
        "colab": {
          "base_uri": "https://localhost:8080/",
          "height": 85
        },
        "outputId": "a34b8195-eefa-443c-d12d-70780e0d408a"
      },
      "source": [
        "M=int(input(\"Enter Amount of water(in kg):\"))\n",
        "I=int(input(\"Enter initial Temperature:\"))\n",
        "F=int(input(\"Enter final temperature:\"))\n",
        "Q=M*(F-I)*4184\n",
        "print('Energy in joules',Q)\n"
      ],
      "execution_count": null,
      "outputs": [
        {
          "output_type": "stream",
          "text": [
            "Enter Amount of water(in kg):1\n",
            "Enter initial Temperature:0\n",
            "Enter final temperature:100\n",
            "Energy in joules 418400\n"
          ],
          "name": "stdout"
        }
      ]
    },
    {
      "cell_type": "code",
      "metadata": {
        "id": "Y-Tmq0c4And0",
        "colab_type": "code",
        "colab": {
          "base_uri": "https://localhost:8080/",
          "height": 51
        },
        "outputId": "5012eb8f-96a8-40a1-e61a-f85a24ddba40"
      },
      "source": [
        "month=input(\"Enter the month:\")\n",
        "winter=[\"December\",\"January\",\"February\"]\n",
        "spring=[\"March\",\"April\",\"May\"]\n",
        "summer=[\"June\",\"July\",\"August\"]\n",
        "autumn=[\"September\",\"October\",\"november\"]\n",
        "if month in winter:\n",
        "  print(\"Winter\")\n",
        "if month in spring:\n",
        "  print(\"Spring\")\n",
        "elif month in summer:\n",
        "  print(\"Summer\")\n",
        "elif month in autumn:\n",
        "  print(\"Autumn\")\n"
      ],
      "execution_count": null,
      "outputs": [
        {
          "output_type": "stream",
          "text": [
            "Enter the month:February\n",
            "Winter\n"
          ],
          "name": "stdout"
        }
      ]
    },
    {
      "cell_type": "code",
      "metadata": {
        "id": "ARzUHmyXA6HO",
        "colab_type": "code",
        "colab": {
          "base_uri": "https://localhost:8080/",
          "height": 85
        },
        "outputId": "b46c3dce-904c-4884-ea37-88463201a071"
      },
      "source": [
        "weight=float(input(\"Enter the weight:\"))\n",
        "height=float(input(\"Enter the height:\"))\n",
        "s=weight/(height**2)\n",
        "if s<18.5:\n",
        "  print(\"Underweight\")\n",
        "elif s>=18.5 and s<25.0:\n",
        "  print(\"normal\")\n",
        "elif s>=25.0 and s<30.0:\n",
        "  print(\"Overweight\")\n",
        "else:\n",
        "  print(\"Obese\") \n",
        "print(\"BMI is:\",s)\n"
      ],
      "execution_count": null,
      "outputs": [
        {
          "output_type": "stream",
          "text": [
            "Enter the weight:75\n",
            "Enter the height:5\n",
            "Underweight\n",
            "BMI is: 3.0\n"
          ],
          "name": "stdout"
        }
      ]
    },
    {
      "cell_type": "code",
      "metadata": {
        "id": "BNmPZF2DBWEC",
        "colab_type": "code",
        "colab": {
          "base_uri": "https://localhost:8080/",
          "height": 51
        },
        "outputId": "06136cc6-428e-40fe-f6ec-5299b3ef7af8"
      },
      "source": [
        "number=int(input(\"Enter number between 100 and 1000:\"))\n",
        "remainder=0\n",
        "sumdigit=0\n",
        "if(number>=100 and number<=1000):\n",
        "    while number > 0:\n",
        "      remainder=number%10\n",
        "      sumdigit=sumdigit+remainder\n",
        "      number=number//10\n",
        "print('The sumof digit is:',sumdigit)"
      ],
      "execution_count": null,
      "outputs": [
        {
          "output_type": "stream",
          "text": [
            "Enter number between 100 and 1000:123\n",
            "The sumof digit is: 6\n"
          ],
          "name": "stdout"
        }
      ]
    },
    {
      "cell_type": "code",
      "metadata": {
        "id": "Vknr0tOFBg67",
        "colab_type": "code",
        "colab": {
          "base_uri": "https://localhost:8080/",
          "height": 54
        },
        "outputId": "9570c534-eab0-4817-db87-32e357afc696"
      },
      "source": [
        "for number in range(1,1001):\n",
        "  temp=number\n",
        "  rev=0\n",
        "  if(number>=100 and number<=1000):\n",
        "    while temp > 0:\n",
        "      rem=temp%10\n",
        "      rev=(rev*10)+rem\n",
        "      temp=temp//10\n",
        "    if number==rev:  \n",
        "      print(number ,end=\" \")\n"
      ],
      "execution_count": null,
      "outputs": [
        {
          "output_type": "stream",
          "text": [
            "101 111 121 131 141 151 161 171 181 191 202 212 222 232 242 252 262 272 282 292 303 313 323 333 343 353 363 373 383 393 404 414 424 434 444 454 464 474 484 494 505 515 525 535 545 555 565 575 585 595 606 616 626 636 646 656 666 676 686 696 707 717 727 737 747 757 767 777 787 797 808 818 828 838 848 858 868 878 888 898 909 919 929 939 949 959 969 979 989 999 "
          ],
          "name": "stdout"
        }
      ]
    },
    {
      "cell_type": "code",
      "metadata": {
        "id": "Y-p0lSPLBsAn",
        "colab_type": "code",
        "colab": {
          "base_uri": "https://localhost:8080/",
          "height": 34
        },
        "outputId": "f1df65d1-ec86-4778-9425-fc6e70751db5"
      },
      "source": [
        "for number in range(1,1001):\n",
        "  sum=0\n",
        "  temp=number\n",
        "  while temp>0:\n",
        "    digit=temp%10\n",
        "    sum+=digit**3\n",
        "    temp//=10\n",
        "  if number==sum:\n",
        "    print(number,end=\" \")\n",
        "\n"
      ],
      "execution_count": null,
      "outputs": [
        {
          "output_type": "stream",
          "text": [
            "1 153 370 371 407 "
          ],
          "name": "stdout"
        }
      ]
    },
    {
      "cell_type": "code",
      "metadata": {
        "id": "wAB6_X1RB6Dg",
        "colab_type": "code",
        "colab": {
          "base_uri": "https://localhost:8080/",
          "height": 1000
        },
        "outputId": "823a7672-5665-48c4-ca40-1626a409a7a4"
      },
      "source": [
        "for i in range(1,100):\n",
        "  if i%3==0 and i%5==0:\n",
        "    print(\"Fizz buzz\")\n",
        "  elif i%5==0:\n",
        "    print(\"Buzz\")\n",
        "  elif i%3==0:\n",
        "    print(\"fizz\")\n",
        "  else:\n",
        "    print(i)"
      ],
      "execution_count": null,
      "outputs": [
        {
          "output_type": "stream",
          "text": [
            "1\n",
            "2\n",
            "fizz\n",
            "4\n",
            "Buzz\n",
            "fizz\n",
            "7\n",
            "8\n",
            "fizz\n",
            "Buzz\n",
            "11\n",
            "fizz\n",
            "13\n",
            "14\n",
            "Fizz buzz\n",
            "16\n",
            "17\n",
            "fizz\n",
            "19\n",
            "Buzz\n",
            "fizz\n",
            "22\n",
            "23\n",
            "fizz\n",
            "Buzz\n",
            "26\n",
            "fizz\n",
            "28\n",
            "29\n",
            "Fizz buzz\n",
            "31\n",
            "32\n",
            "fizz\n",
            "34\n",
            "Buzz\n",
            "fizz\n",
            "37\n",
            "38\n",
            "fizz\n",
            "Buzz\n",
            "41\n",
            "fizz\n",
            "43\n",
            "44\n",
            "Fizz buzz\n",
            "46\n",
            "47\n",
            "fizz\n",
            "49\n",
            "Buzz\n",
            "fizz\n",
            "52\n",
            "53\n",
            "fizz\n",
            "Buzz\n",
            "56\n",
            "fizz\n",
            "58\n",
            "59\n",
            "Fizz buzz\n",
            "61\n",
            "62\n",
            "fizz\n",
            "64\n",
            "Buzz\n",
            "fizz\n",
            "67\n",
            "68\n",
            "fizz\n",
            "Buzz\n",
            "71\n",
            "fizz\n",
            "73\n",
            "74\n",
            "Fizz buzz\n",
            "76\n",
            "77\n",
            "fizz\n",
            "79\n",
            "Buzz\n",
            "fizz\n",
            "82\n",
            "83\n",
            "fizz\n",
            "Buzz\n",
            "86\n",
            "fizz\n",
            "88\n",
            "89\n",
            "Fizz buzz\n",
            "91\n",
            "92\n",
            "fizz\n",
            "94\n",
            "Buzz\n",
            "fizz\n",
            "97\n",
            "98\n",
            "fizz\n"
          ],
          "name": "stdout"
        }
      ]
    },
    {
      "cell_type": "code",
      "metadata": {
        "id": "gjHPehP3CFvI",
        "colab_type": "code",
        "colab": {
          "base_uri": "https://localhost:8080/",
          "height": 85
        },
        "outputId": "b34b47b2-d14f-4a5a-d000-b4f5af6e92d5"
      },
      "source": [
        "H=int(input(\"H:\"))\n",
        "U=int(input(\"U:\"))\n",
        "D=int(input(\"D:\"))\n",
        "N=0\n",
        "while (U-D)*N <=(H-U):\n",
        "    N=N+1\n",
        "print(N+1,'Steps needed to get out from well')\n"
      ],
      "execution_count": null,
      "outputs": [
        {
          "output_type": "stream",
          "text": [
            "H:200\n",
            "U:5\n",
            "D:1\n",
            "50 Steps needed to get out from well\n"
          ],
          "name": "stdout"
        }
      ]
    }
  ]
}